{
 "cells": [
  {
   "cell_type": "markdown",
   "id": "a5a56f98",
   "metadata": {},
   "source": [
    "# #1"
   ]
  },
  {
   "cell_type": "markdown",
   "id": "6f3fba12",
   "metadata": {},
   "source": [
    "1. Read datasets to create dataframe\n",
    "2. Do basic EDA create plots as you think useful to get insights of the data\n",
    "3. Normalize data using slandered and min max scaler if needed\n",
    "4. Do regression using different regression algorithms (price is target )\n",
    "5. Print accuracy score of each."
   ]
  },
  {
   "cell_type": "code",
   "execution_count": 1,
   "id": "d93cc40b",
   "metadata": {},
   "outputs": [],
   "source": [
    "import pandas as pd\n",
    "import numpy as np \n",
    "import matplotlib.pyplot as plt\n",
    "import seaborn as sns\n",
    "%matplotlib inline"
   ]
  },
  {
   "cell_type": "markdown",
   "id": "97d660b6",
   "metadata": {},
   "source": [
    "## read dataset"
   ]
  },
  {
   "cell_type": "code",
   "execution_count": 2,
   "id": "e84c6db5",
   "metadata": {},
   "outputs": [
    {
     "data": {
      "text/html": [
       "<div>\n",
       "<style scoped>\n",
       "    .dataframe tbody tr th:only-of-type {\n",
       "        vertical-align: middle;\n",
       "    }\n",
       "\n",
       "    .dataframe tbody tr th {\n",
       "        vertical-align: top;\n",
       "    }\n",
       "\n",
       "    .dataframe thead th {\n",
       "        text-align: right;\n",
       "    }\n",
       "</style>\n",
       "<table border=\"1\" class=\"dataframe\">\n",
       "  <thead>\n",
       "    <tr style=\"text-align: right;\">\n",
       "      <th></th>\n",
       "      <th>squareMeters</th>\n",
       "      <th>numberOfRooms</th>\n",
       "      <th>hasYard</th>\n",
       "      <th>hasPool</th>\n",
       "      <th>floors</th>\n",
       "      <th>cityCode</th>\n",
       "      <th>cityPartRange</th>\n",
       "      <th>numPrevOwners</th>\n",
       "      <th>made</th>\n",
       "      <th>isNewBuilt</th>\n",
       "      <th>hasStormProtector</th>\n",
       "      <th>basement</th>\n",
       "      <th>attic</th>\n",
       "      <th>garage</th>\n",
       "      <th>hasStorageRoom</th>\n",
       "      <th>hasGuestRoom</th>\n",
       "      <th>price</th>\n",
       "    </tr>\n",
       "  </thead>\n",
       "  <tbody>\n",
       "    <tr>\n",
       "      <th>0</th>\n",
       "      <td>75523</td>\n",
       "      <td>3</td>\n",
       "      <td>0</td>\n",
       "      <td>1</td>\n",
       "      <td>63</td>\n",
       "      <td>9373</td>\n",
       "      <td>3</td>\n",
       "      <td>8</td>\n",
       "      <td>2005</td>\n",
       "      <td>0</td>\n",
       "      <td>1</td>\n",
       "      <td>4313</td>\n",
       "      <td>9005</td>\n",
       "      <td>956</td>\n",
       "      <td>0</td>\n",
       "      <td>7</td>\n",
       "      <td>7559081.5</td>\n",
       "    </tr>\n",
       "    <tr>\n",
       "      <th>1</th>\n",
       "      <td>80771</td>\n",
       "      <td>39</td>\n",
       "      <td>1</td>\n",
       "      <td>1</td>\n",
       "      <td>98</td>\n",
       "      <td>39381</td>\n",
       "      <td>8</td>\n",
       "      <td>6</td>\n",
       "      <td>2015</td>\n",
       "      <td>1</td>\n",
       "      <td>0</td>\n",
       "      <td>3653</td>\n",
       "      <td>2436</td>\n",
       "      <td>128</td>\n",
       "      <td>1</td>\n",
       "      <td>2</td>\n",
       "      <td>8085989.5</td>\n",
       "    </tr>\n",
       "    <tr>\n",
       "      <th>2</th>\n",
       "      <td>55712</td>\n",
       "      <td>58</td>\n",
       "      <td>0</td>\n",
       "      <td>1</td>\n",
       "      <td>19</td>\n",
       "      <td>34457</td>\n",
       "      <td>6</td>\n",
       "      <td>8</td>\n",
       "      <td>2021</td>\n",
       "      <td>0</td>\n",
       "      <td>0</td>\n",
       "      <td>2937</td>\n",
       "      <td>8852</td>\n",
       "      <td>135</td>\n",
       "      <td>1</td>\n",
       "      <td>9</td>\n",
       "      <td>5574642.1</td>\n",
       "    </tr>\n",
       "    <tr>\n",
       "      <th>3</th>\n",
       "      <td>32316</td>\n",
       "      <td>47</td>\n",
       "      <td>0</td>\n",
       "      <td>0</td>\n",
       "      <td>6</td>\n",
       "      <td>27939</td>\n",
       "      <td>10</td>\n",
       "      <td>4</td>\n",
       "      <td>2012</td>\n",
       "      <td>0</td>\n",
       "      <td>1</td>\n",
       "      <td>659</td>\n",
       "      <td>7141</td>\n",
       "      <td>359</td>\n",
       "      <td>0</td>\n",
       "      <td>3</td>\n",
       "      <td>3232561.2</td>\n",
       "    </tr>\n",
       "    <tr>\n",
       "      <th>4</th>\n",
       "      <td>70429</td>\n",
       "      <td>19</td>\n",
       "      <td>1</td>\n",
       "      <td>1</td>\n",
       "      <td>90</td>\n",
       "      <td>38045</td>\n",
       "      <td>3</td>\n",
       "      <td>7</td>\n",
       "      <td>1990</td>\n",
       "      <td>1</td>\n",
       "      <td>0</td>\n",
       "      <td>8435</td>\n",
       "      <td>2429</td>\n",
       "      <td>292</td>\n",
       "      <td>1</td>\n",
       "      <td>4</td>\n",
       "      <td>7055052.0</td>\n",
       "    </tr>\n",
       "  </tbody>\n",
       "</table>\n",
       "</div>"
      ],
      "text/plain": [
       "   squareMeters  numberOfRooms  hasYard  hasPool  floors  cityCode  \\\n",
       "0         75523              3        0        1      63      9373   \n",
       "1         80771             39        1        1      98     39381   \n",
       "2         55712             58        0        1      19     34457   \n",
       "3         32316             47        0        0       6     27939   \n",
       "4         70429             19        1        1      90     38045   \n",
       "\n",
       "   cityPartRange  numPrevOwners  made  isNewBuilt  hasStormProtector  \\\n",
       "0              3              8  2005           0                  1   \n",
       "1              8              6  2015           1                  0   \n",
       "2              6              8  2021           0                  0   \n",
       "3             10              4  2012           0                  1   \n",
       "4              3              7  1990           1                  0   \n",
       "\n",
       "   basement  attic  garage  hasStorageRoom  hasGuestRoom      price  \n",
       "0      4313   9005     956               0             7  7559081.5  \n",
       "1      3653   2436     128               1             2  8085989.5  \n",
       "2      2937   8852     135               1             9  5574642.1  \n",
       "3       659   7141     359               0             3  3232561.2  \n",
       "4      8435   2429     292               1             4  7055052.0  "
      ]
     },
     "execution_count": 2,
     "metadata": {},
     "output_type": "execute_result"
    }
   ],
   "source": [
    "df = pd.read_csv(\"ParisHousing.csv\")\n",
    "df1 = df.head(50)\n",
    "df.head()"
   ]
  },
  {
   "cell_type": "code",
   "execution_count": 3,
   "id": "2ba0723c",
   "metadata": {},
   "outputs": [],
   "source": [
    "# sns.barplot(x='numberOfRooms',y='price',data=df)"
   ]
  },
  {
   "cell_type": "code",
   "execution_count": 4,
   "id": "a19dfbbd",
   "metadata": {},
   "outputs": [
    {
     "data": {
      "text/plain": [
       "(10000, 17)"
      ]
     },
     "execution_count": 4,
     "metadata": {},
     "output_type": "execute_result"
    }
   ],
   "source": [
    "df.shape"
   ]
  },
  {
   "cell_type": "code",
   "execution_count": 5,
   "id": "73300527",
   "metadata": {},
   "outputs": [
    {
     "data": {
      "text/plain": [
       "Index(['squareMeters', 'numberOfRooms', 'hasYard', 'hasPool', 'floors',\n",
       "       'cityCode', 'cityPartRange', 'numPrevOwners', 'made', 'isNewBuilt',\n",
       "       'hasStormProtector', 'basement', 'attic', 'garage', 'hasStorageRoom',\n",
       "       'hasGuestRoom', 'price'],\n",
       "      dtype='object')"
      ]
     },
     "execution_count": 5,
     "metadata": {},
     "output_type": "execute_result"
    }
   ],
   "source": [
    "df.columns\n"
   ]
  },
  {
   "cell_type": "code",
   "execution_count": 6,
   "id": "09232044",
   "metadata": {},
   "outputs": [
    {
     "data": {
      "text/plain": [
       "<seaborn.axisgrid.FacetGrid at 0x1de546da760>"
      ]
     },
     "execution_count": 6,
     "metadata": {},
     "output_type": "execute_result"
    },
    {
     "data": {
      "image/png": "[encoded data removed]",
      "text/plain": [
       "<Figure size 500x500 with 1 Axes>"
      ]
     },
     "metadata": {},
     "output_type": "display_data"
    }
   ],
   "source": [
    "sns.relplot(data=df1, x=\"numberOfRooms\", y=\"price\")"
   ]
  },
  {
   "cell_type": "code",
   "execution_count": 7,
   "id": "d62f260b",
   "metadata": {},
   "outputs": [
    {
     "data": {
      "text/plain": [
       "array([  3,  39,  58,  47,  19,  36,  10, 100,  42,  21,  74,  31,  44,\n",
       "        60,  88,  37,  43,  64,  12,  51,  56,  46,  72,   7,  98,  40,\n",
       "        78,  89,  29,  87,   8,  27,  59,  38,  49,  66,  22,  97,  25,\n",
       "        52,  11,   6,  82,  17,  57,   9,  15,  48,   5,  28,  20,  67,\n",
       "        99,  73,  50,  69,   4,  75,  61,  55,  92,  23,  93,  71,  35,\n",
       "        94,  24,  81,  91,  77,  68,  70,  54,  45,  63,  84,  34,  76,\n",
       "        96,   1,  90,  95,  18,   2,  53,  41,  26,  16,  13,  65,  83,\n",
       "        62,  79,  30,  85,  80,  33,  14,  32,  86], dtype=int64)"
      ]
     },
     "execution_count": 7,
     "metadata": {},
     "output_type": "execute_result"
    }
   ],
   "source": [
    "df['numberOfRooms'].unique()"
   ]
  },
  {
   "cell_type": "code",
   "execution_count": 8,
   "id": "aee5e65c",
   "metadata": {},
   "outputs": [
    {
     "data": {
      "text/html": [
       "<div>\n",
       "<style scoped>\n",
       "    .dataframe tbody tr th:only-of-type {\n",
       "        vertical-align: middle;\n",
       "    }\n",
       "\n",
       "    .dataframe tbody tr th {\n",
       "        vertical-align: top;\n",
       "    }\n",
       "\n",
       "    .dataframe thead th {\n",
       "        text-align: right;\n",
       "    }\n",
       "</style>\n",
       "<table border=\"1\" class=\"dataframe\">\n",
       "  <thead>\n",
       "    <tr style=\"text-align: right;\">\n",
       "      <th></th>\n",
       "      <th>squareMeters</th>\n",
       "      <th>numberOfRooms</th>\n",
       "      <th>hasYard</th>\n",
       "      <th>hasPool</th>\n",
       "      <th>floors</th>\n",
       "      <th>cityCode</th>\n",
       "      <th>cityPartRange</th>\n",
       "      <th>numPrevOwners</th>\n",
       "      <th>made</th>\n",
       "      <th>isNewBuilt</th>\n",
       "      <th>hasStormProtector</th>\n",
       "      <th>basement</th>\n",
       "      <th>attic</th>\n",
       "      <th>garage</th>\n",
       "      <th>hasStorageRoom</th>\n",
       "      <th>hasGuestRoom</th>\n",
       "      <th>price</th>\n",
       "    </tr>\n",
       "  </thead>\n",
       "  <tbody>\n",
       "    <tr>\n",
       "      <th>count</th>\n",
       "      <td>10000.00000</td>\n",
       "      <td>10000.000000</td>\n",
       "      <td>10000.000000</td>\n",
       "      <td>10000.000000</td>\n",
       "      <td>10000.000000</td>\n",
       "      <td>10000.000000</td>\n",
       "      <td>10000.000000</td>\n",
       "      <td>10000.000000</td>\n",
       "      <td>10000.00000</td>\n",
       "      <td>10000.000000</td>\n",
       "      <td>10000.000000</td>\n",
       "      <td>10000.000000</td>\n",
       "      <td>10000.00000</td>\n",
       "      <td>10000.00000</td>\n",
       "      <td>10000.000000</td>\n",
       "      <td>10000.00000</td>\n",
       "      <td>1.000000e+04</td>\n",
       "    </tr>\n",
       "    <tr>\n",
       "      <th>mean</th>\n",
       "      <td>49870.13120</td>\n",
       "      <td>50.358400</td>\n",
       "      <td>0.508700</td>\n",
       "      <td>0.496800</td>\n",
       "      <td>50.276300</td>\n",
       "      <td>50225.486100</td>\n",
       "      <td>5.510100</td>\n",
       "      <td>5.521700</td>\n",
       "      <td>2005.48850</td>\n",
       "      <td>0.499100</td>\n",
       "      <td>0.499900</td>\n",
       "      <td>5033.103900</td>\n",
       "      <td>5028.01060</td>\n",
       "      <td>553.12120</td>\n",
       "      <td>0.503000</td>\n",
       "      <td>4.99460</td>\n",
       "      <td>4.993448e+06</td>\n",
       "    </tr>\n",
       "    <tr>\n",
       "      <th>std</th>\n",
       "      <td>28774.37535</td>\n",
       "      <td>28.816696</td>\n",
       "      <td>0.499949</td>\n",
       "      <td>0.500015</td>\n",
       "      <td>28.889171</td>\n",
       "      <td>29006.675799</td>\n",
       "      <td>2.872024</td>\n",
       "      <td>2.856667</td>\n",
       "      <td>9.30809</td>\n",
       "      <td>0.500024</td>\n",
       "      <td>0.500025</td>\n",
       "      <td>2876.729545</td>\n",
       "      <td>2894.33221</td>\n",
       "      <td>262.05017</td>\n",
       "      <td>0.500016</td>\n",
       "      <td>3.17641</td>\n",
       "      <td>2.877424e+06</td>\n",
       "    </tr>\n",
       "    <tr>\n",
       "      <th>min</th>\n",
       "      <td>89.00000</td>\n",
       "      <td>1.000000</td>\n",
       "      <td>0.000000</td>\n",
       "      <td>0.000000</td>\n",
       "      <td>1.000000</td>\n",
       "      <td>3.000000</td>\n",
       "      <td>1.000000</td>\n",
       "      <td>1.000000</td>\n",
       "      <td>1990.00000</td>\n",
       "      <td>0.000000</td>\n",
       "      <td>0.000000</td>\n",
       "      <td>0.000000</td>\n",
       "      <td>1.00000</td>\n",
       "      <td>100.00000</td>\n",
       "      <td>0.000000</td>\n",
       "      <td>0.00000</td>\n",
       "      <td>1.031350e+04</td>\n",
       "    </tr>\n",
       "    <tr>\n",
       "      <th>25%</th>\n",
       "      <td>25098.50000</td>\n",
       "      <td>25.000000</td>\n",
       "      <td>0.000000</td>\n",
       "      <td>0.000000</td>\n",
       "      <td>25.000000</td>\n",
       "      <td>24693.750000</td>\n",
       "      <td>3.000000</td>\n",
       "      <td>3.000000</td>\n",
       "      <td>1997.00000</td>\n",
       "      <td>0.000000</td>\n",
       "      <td>0.000000</td>\n",
       "      <td>2559.750000</td>\n",
       "      <td>2512.00000</td>\n",
       "      <td>327.75000</td>\n",
       "      <td>0.000000</td>\n",
       "      <td>2.00000</td>\n",
       "      <td>2.516402e+06</td>\n",
       "    </tr>\n",
       "    <tr>\n",
       "      <th>50%</th>\n",
       "      <td>50105.50000</td>\n",
       "      <td>50.000000</td>\n",
       "      <td>1.000000</td>\n",
       "      <td>0.000000</td>\n",
       "      <td>50.000000</td>\n",
       "      <td>50693.000000</td>\n",
       "      <td>5.000000</td>\n",
       "      <td>5.000000</td>\n",
       "      <td>2005.50000</td>\n",
       "      <td>0.000000</td>\n",
       "      <td>0.000000</td>\n",
       "      <td>5092.500000</td>\n",
       "      <td>5045.00000</td>\n",
       "      <td>554.00000</td>\n",
       "      <td>1.000000</td>\n",
       "      <td>5.00000</td>\n",
       "      <td>5.016180e+06</td>\n",
       "    </tr>\n",
       "    <tr>\n",
       "      <th>75%</th>\n",
       "      <td>74609.75000</td>\n",
       "      <td>75.000000</td>\n",
       "      <td>1.000000</td>\n",
       "      <td>1.000000</td>\n",
       "      <td>76.000000</td>\n",
       "      <td>75683.250000</td>\n",
       "      <td>8.000000</td>\n",
       "      <td>8.000000</td>\n",
       "      <td>2014.00000</td>\n",
       "      <td>1.000000</td>\n",
       "      <td>1.000000</td>\n",
       "      <td>7511.250000</td>\n",
       "      <td>7540.50000</td>\n",
       "      <td>777.25000</td>\n",
       "      <td>1.000000</td>\n",
       "      <td>8.00000</td>\n",
       "      <td>7.469092e+06</td>\n",
       "    </tr>\n",
       "    <tr>\n",
       "      <th>max</th>\n",
       "      <td>99999.00000</td>\n",
       "      <td>100.000000</td>\n",
       "      <td>1.000000</td>\n",
       "      <td>1.000000</td>\n",
       "      <td>100.000000</td>\n",
       "      <td>99953.000000</td>\n",
       "      <td>10.000000</td>\n",
       "      <td>10.000000</td>\n",
       "      <td>2021.00000</td>\n",
       "      <td>1.000000</td>\n",
       "      <td>1.000000</td>\n",
       "      <td>10000.000000</td>\n",
       "      <td>10000.00000</td>\n",
       "      <td>1000.00000</td>\n",
       "      <td>1.000000</td>\n",
       "      <td>10.00000</td>\n",
       "      <td>1.000677e+07</td>\n",
       "    </tr>\n",
       "  </tbody>\n",
       "</table>\n",
       "</div>"
      ],
      "text/plain": [
       "       squareMeters  numberOfRooms       hasYard       hasPool        floors  \\\n",
       "count   10000.00000   10000.000000  10000.000000  10000.000000  10000.000000   \n",
       "mean    49870.13120      50.358400      0.508700      0.496800     50.276300   \n",
       "std     28774.37535      28.816696      0.499949      0.500015     28.889171   \n",
       "min        89.00000       1.000000      0.000000      0.000000      1.000000   \n",
       "25%     25098.50000      25.000000      0.000000      0.000000     25.000000   \n",
       "50%     50105.50000      50.000000      1.000000      0.000000     50.000000   \n",
       "75%     74609.75000      75.000000      1.000000      1.000000     76.000000   \n",
       "max     99999.00000     100.000000      1.000000      1.000000    100.000000   \n",
       "\n",
       "           cityCode  cityPartRange  numPrevOwners         made    isNewBuilt  \\\n",
       "count  10000.000000   10000.000000   10000.000000  10000.00000  10000.000000   \n",
       "mean   50225.486100       5.510100       5.521700   2005.48850      0.499100   \n",
       "std    29006.675799       2.872024       2.856667      9.30809      0.500024   \n",
       "min        3.000000       1.000000       1.000000   1990.00000      0.000000   \n",
       "25%    24693.750000       3.000000       3.000000   1997.00000      0.000000   \n",
       "50%    50693.000000       5.000000       5.000000   2005.50000      0.000000   \n",
       "75%    75683.250000       8.000000       8.000000   2014.00000      1.000000   \n",
       "max    99953.000000      10.000000      10.000000   2021.00000      1.000000   \n",
       "\n",
       "       hasStormProtector      basement        attic       garage  \\\n",
       "count       10000.000000  10000.000000  10000.00000  10000.00000   \n",
       "mean            0.499900   5033.103900   5028.01060    553.12120   \n",
       "std             0.500025   2876.729545   2894.33221    262.05017   \n",
       "min             0.000000      0.000000      1.00000    100.00000   \n",
       "25%             0.000000   2559.750000   2512.00000    327.75000   \n",
       "50%             0.000000   5092.500000   5045.00000    554.00000   \n",
       "75%             1.000000   7511.250000   7540.50000    777.25000   \n",
       "max             1.000000  10000.000000  10000.00000   1000.00000   \n",
       "\n",
       "       hasStorageRoom  hasGuestRoom         price  \n",
       "count    10000.000000   10000.00000  1.000000e+04  \n",
       "mean         0.503000       4.99460  4.993448e+06  \n",
       "std          0.500016       3.17641  2.877424e+06  \n",
       "min          0.000000       0.00000  1.031350e+04  \n",
       "25%          0.000000       2.00000  2.516402e+06  \n",
       "50%          1.000000       5.00000  5.016180e+06  \n",
       "75%          1.000000       8.00000  7.469092e+06  \n",
       "max          1.000000      10.00000  1.000677e+07  "
      ]
     },
     "execution_count": 8,
     "metadata": {},
     "output_type": "execute_result"
    }
   ],
   "source": [
    "df.describe()"
   ]
  },
  {
   "cell_type": "code",
   "execution_count": 9,
   "id": "df6f953f",
   "metadata": {},
   "outputs": [],
   "source": [
    "# df['price'].astype(int)"
   ]
  },
  {
   "cell_type": "code",
   "execution_count": 10,
   "id": "c57d57a5",
   "metadata": {},
   "outputs": [
    {
     "name": "stdout",
     "output_type": "stream",
     "text": [
      "<class 'pandas.core.frame.DataFrame'>\n",
      "RangeIndex: 10000 entries, 0 to 9999\n",
      "Data columns (total 17 columns):\n",
      " #   Column             Non-Null Count  Dtype  \n",
      "---  ------             --------------  -----  \n",
      " 0   squareMeters       10000 non-null  int64  \n",
      " 1   numberOfRooms      10000 non-null  int64  \n",
      " 2   hasYard            10000 non-null  int64  \n",
      " 3   hasPool            10000 non-null  int64  \n",
      " 4   floors             10000 non-null  int64  \n",
      " 5   cityCode           10000 non-null  int64  \n",
      " 6   cityPartRange      10000 non-null  int64  \n",
      " 7   numPrevOwners      10000 non-null  int64  \n",
      " 8   made               10000 non-null  int64  \n",
      " 9   isNewBuilt         10000 non-null  int64  \n",
      " 10  hasStormProtector  10000 non-null  int64  \n",
      " 11  basement           10000 non-null  int64  \n",
      " 12  attic              10000 non-null  int64  \n",
      " 13  garage             10000 non-null  int64  \n",
      " 14  hasStorageRoom     10000 non-null  int64  \n",
      " 15  hasGuestRoom       10000 non-null  int64  \n",
      " 16  price              10000 non-null  float64\n",
      "dtypes: float64(1), int64(16)\n",
      "memory usage: 1.3 MB\n"
     ]
    }
   ],
   "source": [
    "df.info()"
   ]
  },
  {
   "cell_type": "code",
   "execution_count": 11,
   "id": "f2f91714",
   "metadata": {},
   "outputs": [
    {
     "data": {
      "text/plain": [
       "squareMeters         0\n",
       "numberOfRooms        0\n",
       "hasYard              0\n",
       "hasPool              0\n",
       "floors               0\n",
       "cityCode             0\n",
       "cityPartRange        0\n",
       "numPrevOwners        0\n",
       "made                 0\n",
       "isNewBuilt           0\n",
       "hasStormProtector    0\n",
       "basement             0\n",
       "attic                0\n",
       "garage               0\n",
       "hasStorageRoom       0\n",
       "hasGuestRoom         0\n",
       "price                0\n",
       "dtype: int64"
      ]
     },
     "execution_count": 11,
     "metadata": {},
     "output_type": "execute_result"
    }
   ],
   "source": [
    "df.isna().sum()"
   ]
  },
  {
   "cell_type": "code",
   "execution_count": 12,
   "id": "8e290006",
   "metadata": {},
   "outputs": [
    {
     "data": {
      "text/plain": [
       "array([ 63,  98,  19,   6,  90,  17,  99,  11,  61,  15,  21,   5,  77,\n",
       "        69,  67,  16,  10,  50,  78,  65,  73,  54,   3,  14,  55,  92,\n",
       "        79,   9,  62,  91,  24,  49,  56,  53,  32,  38,  27,   4,  52,\n",
       "        28,  20,  68,  83,  51,  70,  22,  74,  47,  94,  87,  35,  89,\n",
       "        18,  58,  46,  97,  72,  37,   7,  43,  84,  23,  76,  41, 100,\n",
       "        85,   8,   1,  93,  25,  57,  36,  60,  66,  39,  96,  13,  64,\n",
       "        29,  30,  86,  44,  71,  81,  88,  59,  34,  42,  80,   2,  48,\n",
       "        31,  40,  12,  75,  82,  26,  95,  33,  45], dtype=int64)"
      ]
     },
     "execution_count": 12,
     "metadata": {},
     "output_type": "execute_result"
    }
   ],
   "source": [
    "df['floors'].unique()"
   ]
  },
  {
   "cell_type": "code",
   "execution_count": 13,
   "id": "249ca6f2",
   "metadata": {},
   "outputs": [
    {
     "data": {
      "text/plain": [
       "<AxesSubplot:>"
      ]
     },
     "execution_count": 13,
     "metadata": {},
     "output_type": "execute_result"
    },
    {
     "data": {
      "image/png": "[encoded data removed]",
      "text/plain": [
       "<Figure size 640x480 with 2 Axes>"
      ]
     },
     "metadata": {},
     "output_type": "display_data"
    }
   ],
   "source": [
    "sns.heatmap(df.corr())"
   ]
  },
  {
   "cell_type": "code",
   "execution_count": 14,
   "id": "d5e29a8a",
   "metadata": {},
   "outputs": [],
   "source": [
    "# sns.barplot(x='price',y='squareMeters',data=df)"
   ]
  },
  {
   "cell_type": "code",
   "execution_count": 15,
   "id": "1e7bcdf3",
   "metadata": {},
   "outputs": [
    {
     "data": {
      "text/plain": [
       "Index(['squareMeters', 'numberOfRooms', 'hasYard', 'hasPool', 'floors',\n",
       "       'cityCode', 'cityPartRange', 'numPrevOwners', 'made', 'isNewBuilt',\n",
       "       'hasStormProtector', 'basement', 'attic', 'garage', 'hasStorageRoom',\n",
       "       'hasGuestRoom', 'price'],\n",
       "      dtype='object')"
      ]
     },
     "execution_count": 15,
     "metadata": {},
     "output_type": "execute_result"
    }
   ],
   "source": [
    "df.columns"
   ]
  },
  {
   "cell_type": "code",
   "execution_count": 16,
   "id": "2baf328a",
   "metadata": {},
   "outputs": [],
   "source": [
    "# sns.kdeplot(y='price',x='squareMeters',data=df,fill=True)"
   ]
  },
  {
   "cell_type": "code",
   "execution_count": 17,
   "id": "36a30d59",
   "metadata": {},
   "outputs": [
    {
     "data": {
      "text/plain": [
       "<AxesSubplot:xlabel='price', ylabel='Count'>"
      ]
     },
     "execution_count": 17,
     "metadata": {},
     "output_type": "execute_result"
    },
    {
     "data": {
      "image/png": "[encoded data removed]",
      "text/plain": [
       "<Figure size 640x480 with 1 Axes>"
      ]
     },
     "metadata": {},
     "output_type": "display_data"
    }
   ],
   "source": [
    "sns.histplot(data=df,x='price',kde=True)"
   ]
  },
  {
   "cell_type": "code",
   "execution_count": 18,
   "id": "c998f4d9",
   "metadata": {},
   "outputs": [],
   "source": [
    "# sns.pairplot(data=df)"
   ]
  },
  {
   "cell_type": "code",
   "execution_count": 19,
   "id": "b6f62080",
   "metadata": {},
   "outputs": [],
   "source": [
    "X = df.drop('price',axis=1)\n",
    "y = df['price']"
   ]
  },
  {
   "cell_type": "markdown",
   "id": "7164399e",
   "metadata": {},
   "source": [
    "# Normalization"
   ]
  },
  {
   "cell_type": "code",
   "execution_count": 20,
   "id": "910fb9e1",
   "metadata": {},
   "outputs": [],
   "source": [
    "from sklearn.preprocessing import StandardScaler\n",
    "sc = StandardScaler()\n",
    "X_scaler = sc.fit_transform(X)\n"
   ]
  },
  {
   "cell_type": "code",
   "execution_count": 21,
   "id": "205f196c",
   "metadata": {},
   "outputs": [],
   "source": [
    "# from sklearn.preprocessing import MinMaxScaler\n",
    "# m_scaler = MinMaxScaler()\n",
    "# X_m_scaler = m_scaler.fit_transform(X)"
   ]
  },
  {
   "cell_type": "markdown",
   "id": "8782409f",
   "metadata": {},
   "source": [
    "## train test split"
   ]
  },
  {
   "cell_type": "code",
   "execution_count": 22,
   "id": "eac5b5f8",
   "metadata": {},
   "outputs": [],
   "source": [
    "from sklearn.model_selection import train_test_split"
   ]
  },
  {
   "cell_type": "code",
   "execution_count": 23,
   "id": "930f16d8",
   "metadata": {},
   "outputs": [],
   "source": [
    "# X_train, X_test, y_train, y_test = train_test_split(X_m_scaler, y, test_size=0.33, random_state=42)"
   ]
  },
  {
   "cell_type": "code",
   "execution_count": 24,
   "id": "c4522845",
   "metadata": {},
   "outputs": [],
   "source": [
    "\n",
    "X_train, X_test, y_train, y_test = train_test_split(X_scaler, y, test_size=0.33, random_state=42)"
   ]
  },
  {
   "cell_type": "markdown",
   "id": "9bda794c",
   "metadata": {},
   "source": [
    "# Linear Regression"
   ]
  },
  {
   "cell_type": "code",
   "execution_count": 25,
   "id": "936a196e",
   "metadata": {},
   "outputs": [
    {
     "data": {
      "text/plain": [
       "LinearRegression()"
      ]
     },
     "execution_count": 25,
     "metadata": {},
     "output_type": "execute_result"
    }
   ],
   "source": [
    "from sklearn.linear_model import LinearRegression\n",
    "model  = LinearRegression()\n",
    "model.fit(X_train,y_train)"
   ]
  },
  {
   "cell_type": "code",
   "execution_count": 26,
   "id": "8a1c3495",
   "metadata": {},
   "outputs": [],
   "source": [
    "# from sklearn.linear_model import LinearRegression\n",
    "# LinearRegression().fit(X_train,y_train)\n"
   ]
  },
  {
   "cell_type": "code",
   "execution_count": 34,
   "id": "22a3d576",
   "metadata": {},
   "outputs": [],
   "source": [
    "y_pred = model.predict(X_test)"
   ]
  },
  {
   "cell_type": "code",
   "execution_count": 35,
   "id": "0eb34958",
   "metadata": {},
   "outputs": [
    {
     "data": {
      "text/plain": [
       "0.9999995764395305"
      ]
     },
     "execution_count": 35,
     "metadata": {},
     "output_type": "execute_result"
    }
   ],
   "source": [
    "from sklearn.metrics import r2_score\n",
    "r2_score(y_test,y_pred)"
   ]
  },
  {
   "cell_type": "code",
   "execution_count": 27,
   "id": "7376c26e",
   "metadata": {},
   "outputs": [
    {
     "data": {
      "text/plain": [
       "0.9999995764395305"
      ]
     },
     "execution_count": 27,
     "metadata": {},
     "output_type": "execute_result"
    }
   ],
   "source": [
    "model.score(X_test,y_test)"
   ]
  },
  {
   "cell_type": "code",
   "execution_count": 28,
   "id": "288d6eeb",
   "metadata": {},
   "outputs": [
    {
     "data": {
      "text/plain": [
       "0.999999559237789"
      ]
     },
     "execution_count": 28,
     "metadata": {},
     "output_type": "execute_result"
    }
   ],
   "source": [
    "model.score(X_train,y_train)"
   ]
  },
  {
   "cell_type": "markdown",
   "id": "1f31ad89",
   "metadata": {},
   "source": [
    "# Decision Tree"
   ]
  },
  {
   "cell_type": "code",
   "execution_count": 29,
   "id": "32c9a08d",
   "metadata": {},
   "outputs": [
    {
     "data": {
      "text/plain": [
       "DecisionTreeRegressor()"
      ]
     },
     "execution_count": 29,
     "metadata": {},
     "output_type": "execute_result"
    }
   ],
   "source": [
    "from sklearn.tree import DecisionTreeRegressor\n",
    "model1 = DecisionTreeRegressor()\n",
    "model1.fit(X_train,y_train)"
   ]
  },
  {
   "cell_type": "code",
   "execution_count": 30,
   "id": "ce33245b",
   "metadata": {},
   "outputs": [
    {
     "data": {
      "text/plain": [
       "0.9999961845465865"
      ]
     },
     "execution_count": 30,
     "metadata": {},
     "output_type": "execute_result"
    }
   ],
   "source": [
    "model1.score(X_test,y_test)"
   ]
  },
  {
   "cell_type": "markdown",
   "id": "8c8c7ea9",
   "metadata": {},
   "source": [
    "# SVM"
   ]
  },
  {
   "cell_type": "code",
   "execution_count": 31,
   "id": "8ba49cd1",
   "metadata": {},
   "outputs": [],
   "source": [
    "# from sklearn.svm import SVR\n",
    "# model2 = SVR(kernel=\"poly\")\n",
    "# model2.fit(X_train,y_train)"
   ]
  },
  {
   "cell_type": "code",
   "execution_count": 32,
   "id": "2f76b5b6",
   "metadata": {},
   "outputs": [],
   "source": [
    "# model2.score(X_test,y_test)"
   ]
  },
  {
   "cell_type": "code",
   "execution_count": null,
   "id": "970215d0",
   "metadata": {},
   "outputs": [],
   "source": []
  },
  {
   "cell_type": "code",
   "execution_count": null,
   "id": "95c70be7",
   "metadata": {},
   "outputs": [],
   "source": []
  },
  {
   "cell_type": "code",
   "execution_count": null,
   "id": "c4c14b1f",
   "metadata": {},
   "outputs": [],
   "source": []
  },
  {
   "cell_type": "code",
   "execution_count": null,
   "id": "cbec2cec",
   "metadata": {},
   "outputs": [],
   "source": []
  },
  {
   "cell_type": "code",
   "execution_count": null,
   "id": "d178fb36",
   "metadata": {},
   "outputs": [],
   "source": []
  },
  {
   "cell_type": "code",
   "execution_count": null,
   "id": "c2199f8c",
   "metadata": {},
   "outputs": [],
   "source": []
  },
  {
   "cell_type": "code",
   "execution_count": null,
   "id": "24dde5d9",
   "metadata": {},
   "outputs": [],
   "source": []
  },
  {
   "cell_type": "code",
   "execution_count": 33,
   "id": "b0000272",
   "metadata": {},
   "outputs": [],
   "source": [
    "# print(bhp_df.location.value_counts().index)\n",
    "# print(\"-----------------------------------\")\n",
    "# print(bhp_df.location.value_counts().values)"
   ]
  },
  {
   "cell_type": "code",
   "execution_count": null,
   "id": "f573e3bd",
   "metadata": {},
   "outputs": [],
   "source": []
  },
  {
   "cell_type": "code",
   "execution_count": null,
   "id": "03cd8cc7",
   "metadata": {},
   "outputs": [],
   "source": []
  }
 ],
 "metadata": {
  "kernelspec": {
   "display_name": "Python 3 (ipykernel)",
   "language": "python",
   "name": "python3"
  },
  "language_info": {
   "codemirror_mode": {
    "name": "ipython",
    "version": 3
   },
   "file_extension": ".py",
   "mimetype": "text/x-python",
   "name": "python",
   "nbconvert_exporter": "python",
   "pygments_lexer": "ipython3",
   "version": "3.9.13"
  }
 },
 "nbformat": 4,
 "nbformat_minor": 5
}
